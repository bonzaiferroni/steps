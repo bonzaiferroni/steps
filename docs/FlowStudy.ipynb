{
 "cells": [
  {
   "cell_type": "code",
   "metadata": {
    "collapsed": true,
    "ExecuteTime": {
     "end_time": "2025-06-30T22:23:46.283948272Z",
     "start_time": "2025-06-30T22:23:46.134744780Z"
    }
   },
   "source": [
    "@file:DependsOn(\"org.jetbrains.kotlinx:kotlinx-coroutines-core:1.10.2\")\n",
    "\n",
    "import kotlinx.coroutines.flow.asFlow\n",
    "import kotlinx.coroutines.flow.map\n",
    "import kotlinx.coroutines.flow.transform\n",
    "import kotlinx.coroutines.flow.collect\n",
    "import kotlinx.coroutines.runBlocking\n",
    "\n",
    "// Turn a list into a flow\n",
    "val myFlow = listOf(0,1,2,3).asFlow()\n",
    "\n",
    "runBlocking {\n",
    "    myFlow.transform { for (i in 0..it) emit(i) }.collect { println(it) }  // prints 0,1,2,3\n",
    "}"
   ],
   "outputs": [
    {
     "name": "stdout",
     "output_type": "stream",
     "text": [
      "0\n",
      "0\n",
      "1\n",
      "0\n",
      "1\n",
      "2\n",
      "0\n",
      "1\n",
      "2\n",
      "3\n"
     ]
    }
   ],
   "execution_count": 4
  },
  {
   "metadata": {},
   "cell_type": "code",
   "outputs": [],
   "execution_count": null,
   "source": ""
  }
 ],
 "metadata": {
  "kernelspec": {
   "display_name": "Kotlin",
   "language": "kotlin",
   "name": "kotlin"
  },
  "language_info": {
   "name": "kotlin",
   "version": "1.9.23",
   "mimetype": "text/x-kotlin",
   "file_extension": ".kt",
   "pygments_lexer": "kotlin",
   "codemirror_mode": "text/x-kotlin",
   "nbconvert_exporter": ""
  }
 },
 "nbformat": 4,
 "nbformat_minor": 0
}
